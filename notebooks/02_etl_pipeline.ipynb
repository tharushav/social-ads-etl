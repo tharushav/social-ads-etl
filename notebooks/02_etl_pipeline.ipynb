{
 "cells": [
  {
   "cell_type": "markdown",
   "id": "89191660",
   "metadata": {},
   "source": [
    "# 02 - ETL Pipeline\n",
    "\n",
    "This notebook implements and tests the **Extract, Transform, Load (ETL)** pipeline for the social ads dataset.\n",
    "\n",
    "## What we'll do:\n",
    "1. **Extract**: Load data from the CSV file\n",
    "2. **Transform**: Clean, validate, and enrich the data\n",
    "3. **Load**: Store processed data in SQLite database\n",
    "4. **Validate**: Test the ETL pipeline and verify results\n",
    "\n",
    "**Prerequisites**: Run `01_data_exploration.ipynb` first to understand the data structure.\n",
    "\n",
    "**Next**: After ETL completion, proceed to `03_analysis.ipynb` for insights generation."
   ]
  },
  {
   "cell_type": "code",
   "execution_count": 15,
   "id": "faa30c40",
   "metadata": {},
   "outputs": [
    {
     "name": "stdout",
     "output_type": "stream",
     "text": [
      "⚠️ Import error: attempted relative import with no known parent package\n",
      "🔧 Using alternative configuration...\n",
      "✅ Fallback configuration loaded!\n",
      "📁 Raw CSV path: ../data/raw/social_ads.csv\n",
      "🗄️ Database path: ../data/processed/social_ads.db\n",
      "🔗 SQLite URL: sqlite:////Users/tharushavihanga/Developer/social-ads-etl/data/processed/social_ads.db\n"
     ]
    }
   ],
   "source": [
    "# Setup and Imports\n",
    "import sys\n",
    "import os\n",
    "from pathlib import Path\n",
    "import pandas as pd\n",
    "import numpy as np\n",
    "from datetime import datetime\n",
    "import sqlite3\n",
    "from sqlalchemy import create_engine, text\n",
    "\n",
    "# Add src to Python path to import our modules\n",
    "sys.path.append('../src')\n",
    "\n",
    "try:\n",
    "\tfrom config import RAW_CSV, PROCESSED_DB, SQLITE_URL\n",
    "\tfrom models import metadata, social_ads\n",
    "\tfrom db import engine, SessionLocal, create_tables\n",
    "\t\n",
    "\tprint(\"✅ Libraries and modules imported successfully!\")\n",
    "\tprint(f\"📁 Raw CSV path: {RAW_CSV}\")\n",
    "\tprint(f\"🗄️ Database path: {PROCESSED_DB}\")\n",
    "\tprint(f\"🔗 SQLite URL: {SQLITE_URL}\")\n",
    "\t\n",
    "except ImportError as e:\n",
    "\tprint(f\"⚠️ Import error: {e}\")\n",
    "\tprint(\"🔧 Using alternative configuration...\")\n",
    "\t\n",
    "\t# Fallback configuration if imports fail\n",
    "\tRAW_CSV = '../data/raw/social_ads.csv'\n",
    "\tPROCESSED_DB = '../data/processed/social_ads.db'\n",
    "\tSQLITE_URL = f'sqlite:///{os.path.abspath(PROCESSED_DB)}'\n",
    "\t\n",
    "\t# Create engine directly\n",
    "\tengine = create_engine(SQLITE_URL)\n",
    "\t\n",
    "\t# Define create_tables function for fallback\n",
    "\tdef create_tables():\n",
    "\t\t\"\"\"Create database tables if they don't exist\"\"\"\n",
    "\t\tfrom sqlalchemy import Table, Column, Integer, String, Boolean, Float, DateTime, MetaData\n",
    "\t\tfrom datetime import datetime\n",
    "\t\t\n",
    "\t\tmetadata = MetaData()\n",
    "\t\t\n",
    "\t\tsocial_ads = Table('social_ads', metadata,\n",
    "\t\t\tColumn('id', Integer, primary_key=True),\n",
    "\t\t\tColumn('age', Integer, nullable=False),\n",
    "\t\t\tColumn('estimated_salary', Float, nullable=False),\n",
    "\t\t\tColumn('purchased', Boolean, nullable=False),\n",
    "\t\t\tColumn('age_group', String(50)),\n",
    "\t\t\tColumn('salary_bracket', String(50)),\n",
    "\t\t\tColumn('created_at', DateTime, default=datetime.utcnow),\n",
    "\t\t\tColumn('updated_at', DateTime, default=datetime.utcnow)\n",
    "\t\t)\n",
    "\t\t\n",
    "\t\tmetadata.create_all(engine)\n",
    "\t\tprint(\"📊 Database tables created/verified\")\n",
    "\t\n",
    "\tprint(\"✅ Fallback configuration loaded!\")\n",
    "\tprint(f\"📁 Raw CSV path: {RAW_CSV}\")\n",
    "\tprint(f\"🗄️ Database path: {PROCESSED_DB}\")\n",
    "\tprint(f\"🔗 SQLite URL: {SQLITE_URL}\")"
   ]
  },
  {
   "cell_type": "markdown",
   "id": "86543415",
   "metadata": {},
   "source": [
    "## 📥 Extract Phase\n",
    "\n",
    "Load the raw data from CSV and perform initial validation."
   ]
  },
  {
   "cell_type": "code",
   "execution_count": 16,
   "id": "efb62180",
   "metadata": {},
   "outputs": [
    {
     "name": "stdout",
     "output_type": "stream",
     "text": [
      "🚀 Starting data extraction...\n",
      "✅ Successfully loaded 400 records\n",
      "📊 Columns: ['Age', 'EstimatedSalary', 'Purchased']\n",
      "📈 Shape: (400, 3)\n",
      "\n",
      "🔍 First 5 rows:\n"
     ]
    },
    {
     "data": {
      "application/vnd.microsoft.datawrangler.viewer.v0+json": {
       "columns": [
        {
         "name": "index",
         "rawType": "int64",
         "type": "integer"
        },
        {
         "name": "Age",
         "rawType": "int64",
         "type": "integer"
        },
        {
         "name": "EstimatedSalary",
         "rawType": "int64",
         "type": "integer"
        },
        {
         "name": "Purchased",
         "rawType": "int64",
         "type": "integer"
        }
       ],
       "ref": "9a6b70d5-27e3-44ba-8c1b-e98fdb4ddb6f",
       "rows": [
        [
         "0",
         "19",
         "19000",
         "0"
        ],
        [
         "1",
         "35",
         "20000",
         "0"
        ],
        [
         "2",
         "26",
         "43000",
         "0"
        ],
        [
         "3",
         "27",
         "57000",
         "0"
        ],
        [
         "4",
         "19",
         "76000",
         "0"
        ]
       ],
       "shape": {
        "columns": 3,
        "rows": 5
       }
      },
      "text/html": [
       "<div>\n",
       "<style scoped>\n",
       "    .dataframe tbody tr th:only-of-type {\n",
       "        vertical-align: middle;\n",
       "    }\n",
       "\n",
       "    .dataframe tbody tr th {\n",
       "        vertical-align: top;\n",
       "    }\n",
       "\n",
       "    .dataframe thead th {\n",
       "        text-align: right;\n",
       "    }\n",
       "</style>\n",
       "<table border=\"1\" class=\"dataframe\">\n",
       "  <thead>\n",
       "    <tr style=\"text-align: right;\">\n",
       "      <th></th>\n",
       "      <th>Age</th>\n",
       "      <th>EstimatedSalary</th>\n",
       "      <th>Purchased</th>\n",
       "    </tr>\n",
       "  </thead>\n",
       "  <tbody>\n",
       "    <tr>\n",
       "      <th>0</th>\n",
       "      <td>19</td>\n",
       "      <td>19000</td>\n",
       "      <td>0</td>\n",
       "    </tr>\n",
       "    <tr>\n",
       "      <th>1</th>\n",
       "      <td>35</td>\n",
       "      <td>20000</td>\n",
       "      <td>0</td>\n",
       "    </tr>\n",
       "    <tr>\n",
       "      <th>2</th>\n",
       "      <td>26</td>\n",
       "      <td>43000</td>\n",
       "      <td>0</td>\n",
       "    </tr>\n",
       "    <tr>\n",
       "      <th>3</th>\n",
       "      <td>27</td>\n",
       "      <td>57000</td>\n",
       "      <td>0</td>\n",
       "    </tr>\n",
       "    <tr>\n",
       "      <th>4</th>\n",
       "      <td>19</td>\n",
       "      <td>76000</td>\n",
       "      <td>0</td>\n",
       "    </tr>\n",
       "  </tbody>\n",
       "</table>\n",
       "</div>"
      ],
      "text/plain": [
       "   Age  EstimatedSalary  Purchased\n",
       "0   19            19000          0\n",
       "1   35            20000          0\n",
       "2   26            43000          0\n",
       "3   27            57000          0\n",
       "4   19            76000          0"
      ]
     },
     "execution_count": 16,
     "metadata": {},
     "output_type": "execute_result"
    }
   ],
   "source": [
    "def extract_data():\n",
    "    \"\"\"Extract data from CSV file\"\"\"\n",
    "    print(\"🚀 Starting data extraction...\")\n",
    "    \n",
    "    try:\n",
    "        # Load data from CSV\n",
    "        df_raw = pd.read_csv(RAW_CSV)\n",
    "        print(f\"✅ Successfully loaded {len(df_raw)} records\")\n",
    "        print(f\"📊 Columns: {list(df_raw.columns)}\")\n",
    "        print(f\"📈 Shape: {df_raw.shape}\")\n",
    "        \n",
    "        return df_raw\n",
    "    \n",
    "    except Exception as e:\n",
    "        print(f\"❌ Error during extraction: {e}\")\n",
    "        raise\n",
    "\n",
    "# Execute extraction\n",
    "df_raw = extract_data()\n",
    "print(f\"\\n🔍 First 5 rows:\")\n",
    "df_raw.head()"
   ]
  },
  {
   "cell_type": "markdown",
   "id": "f7abe8cf",
   "metadata": {},
   "source": [
    "## 🔄 Transform Phase\n",
    "\n",
    "Clean, validate, and enrich the data with derived features."
   ]
  },
  {
   "cell_type": "code",
   "execution_count": 17,
   "id": "6856ae4f",
   "metadata": {},
   "outputs": [
    {
     "name": "stdout",
     "output_type": "stream",
     "text": [
      "🧹 Starting data cleaning and validation...\n",
      "✅ Column names cleaned: ['age', 'estimated_salary', 'purchased']\n",
      "🗑️ Removed 33 duplicate records\n",
      "🚮 Removed records with missing values\n",
      "👤 Removed 0 records with invalid age\n",
      "💰 Removed 0 records with invalid salary\n",
      "🛒 Removed 0 records with invalid purchase values\n",
      "\n",
      "📊 Data validation summary:\n",
      "   Initial records: 400\n",
      "   Final records: 367\n",
      "   Data quality: 91.8%\n"
     ]
    },
    {
     "data": {
      "application/vnd.microsoft.datawrangler.viewer.v0+json": {
       "columns": [
        {
         "name": "index",
         "rawType": "int64",
         "type": "integer"
        },
        {
         "name": "age",
         "rawType": "int64",
         "type": "integer"
        },
        {
         "name": "estimated_salary",
         "rawType": "int64",
         "type": "integer"
        },
        {
         "name": "purchased",
         "rawType": "int64",
         "type": "integer"
        }
       ],
       "ref": "e7da4133-282f-452a-b5ae-5e9834932e89",
       "rows": [
        [
         "0",
         "19",
         "19000",
         "0"
        ],
        [
         "1",
         "35",
         "20000",
         "0"
        ],
        [
         "2",
         "26",
         "43000",
         "0"
        ],
        [
         "3",
         "27",
         "57000",
         "0"
        ],
        [
         "4",
         "19",
         "76000",
         "0"
        ]
       ],
       "shape": {
        "columns": 3,
        "rows": 5
       }
      },
      "text/html": [
       "<div>\n",
       "<style scoped>\n",
       "    .dataframe tbody tr th:only-of-type {\n",
       "        vertical-align: middle;\n",
       "    }\n",
       "\n",
       "    .dataframe tbody tr th {\n",
       "        vertical-align: top;\n",
       "    }\n",
       "\n",
       "    .dataframe thead th {\n",
       "        text-align: right;\n",
       "    }\n",
       "</style>\n",
       "<table border=\"1\" class=\"dataframe\">\n",
       "  <thead>\n",
       "    <tr style=\"text-align: right;\">\n",
       "      <th></th>\n",
       "      <th>age</th>\n",
       "      <th>estimated_salary</th>\n",
       "      <th>purchased</th>\n",
       "    </tr>\n",
       "  </thead>\n",
       "  <tbody>\n",
       "    <tr>\n",
       "      <th>0</th>\n",
       "      <td>19</td>\n",
       "      <td>19000</td>\n",
       "      <td>0</td>\n",
       "    </tr>\n",
       "    <tr>\n",
       "      <th>1</th>\n",
       "      <td>35</td>\n",
       "      <td>20000</td>\n",
       "      <td>0</td>\n",
       "    </tr>\n",
       "    <tr>\n",
       "      <th>2</th>\n",
       "      <td>26</td>\n",
       "      <td>43000</td>\n",
       "      <td>0</td>\n",
       "    </tr>\n",
       "    <tr>\n",
       "      <th>3</th>\n",
       "      <td>27</td>\n",
       "      <td>57000</td>\n",
       "      <td>0</td>\n",
       "    </tr>\n",
       "    <tr>\n",
       "      <th>4</th>\n",
       "      <td>19</td>\n",
       "      <td>76000</td>\n",
       "      <td>0</td>\n",
       "    </tr>\n",
       "  </tbody>\n",
       "</table>\n",
       "</div>"
      ],
      "text/plain": [
       "   age  estimated_salary  purchased\n",
       "0   19             19000          0\n",
       "1   35             20000          0\n",
       "2   26             43000          0\n",
       "3   27             57000          0\n",
       "4   19             76000          0"
      ]
     },
     "execution_count": 17,
     "metadata": {},
     "output_type": "execute_result"
    }
   ],
   "source": [
    "def validate_and_clean_data(df):\n",
    "    \"\"\"Validate and clean the data\"\"\"\n",
    "    print(\"🧹 Starting data cleaning and validation...\")\n",
    "    \n",
    "    initial_count = len(df)\n",
    "    df_clean = df.copy()\n",
    "    \n",
    "    # Clean column names (lowercase, snake_case)\n",
    "    df_clean.columns = df_clean.columns.str.lower()\n",
    "    df_clean = df_clean.rename(columns={'estimatedsalary': 'estimated_salary'})\n",
    "    print(f\"✅ Column names cleaned: {list(df_clean.columns)}\")\n",
    "    \n",
    "    # Remove duplicates\n",
    "    df_clean = df_clean.drop_duplicates()\n",
    "    print(f\"🗑️ Removed {initial_count - len(df_clean)} duplicate records\")\n",
    "    \n",
    "    # Remove records with missing values\n",
    "    df_clean = df_clean.dropna()\n",
    "    print(f\"🚮 Removed records with missing values\")\n",
    "    \n",
    "    # Validate age range (18-100)\n",
    "    age_before = len(df_clean)\n",
    "    df_clean = df_clean[(df_clean['age'] >= 18) & (df_clean['age'] <= 100)]\n",
    "    print(f\"👤 Removed {age_before - len(df_clean)} records with invalid age\")\n",
    "    \n",
    "    # Validate salary range (positive values)\n",
    "    salary_before = len(df_clean)\n",
    "    df_clean = df_clean[df_clean['estimated_salary'] > 0]\n",
    "    print(f\"💰 Removed {salary_before - len(df_clean)} records with invalid salary\")\n",
    "    \n",
    "    # Validate purchased values (0 or 1)\n",
    "    purchase_before = len(df_clean)\n",
    "    df_clean = df_clean[df_clean['purchased'].isin([0, 1])]\n",
    "    print(f\"🛒 Removed {purchase_before - len(df_clean)} records with invalid purchase values\")\n",
    "    \n",
    "    final_count = len(df_clean)\n",
    "    print(f\"\\n📊 Data validation summary:\")\n",
    "    print(f\"   Initial records: {initial_count}\")\n",
    "    print(f\"   Final records: {final_count}\")\n",
    "    print(f\"   Data quality: {final_count/initial_count*100:.1f}%\")\n",
    "    \n",
    "    return df_clean\n",
    "\n",
    "# Execute data cleaning\n",
    "df_clean = validate_and_clean_data(df_raw)\n",
    "df_clean.head()"
   ]
  },
  {
   "cell_type": "code",
   "execution_count": 18,
   "id": "8bf96380",
   "metadata": {},
   "outputs": [
    {
     "name": "stdout",
     "output_type": "stream",
     "text": [
      "🛠️ Adding derived features...\n",
      "✅ Added age_group feature\n",
      "✅ Added salary_bracket feature\n",
      "✅ Converted purchased to boolean\n",
      "\n",
      "📊 Feature engineering summary:\n",
      "   Age groups: {'Middle Age (35-44)': 125, 'Senior (45+)': 106, 'Adult (25-34)': 95, 'Young (18-24)': 41}\n",
      "   Salary brackets: {'High (60K-100K)': 145, 'Medium (30K-60K)': 100, 'Very High (100K+)': 73, 'Low (<30K)': 49}\n",
      "\n",
      "🔍 Final transformed data shape: (367, 5)\n",
      "📝 Final columns: ['age', 'estimated_salary', 'purchased', 'age_group', 'salary_bracket']\n"
     ]
    },
    {
     "data": {
      "application/vnd.microsoft.datawrangler.viewer.v0+json": {
       "columns": [
        {
         "name": "index",
         "rawType": "int64",
         "type": "integer"
        },
        {
         "name": "age",
         "rawType": "int64",
         "type": "integer"
        },
        {
         "name": "estimated_salary",
         "rawType": "int64",
         "type": "integer"
        },
        {
         "name": "purchased",
         "rawType": "bool",
         "type": "boolean"
        },
        {
         "name": "age_group",
         "rawType": "object",
         "type": "string"
        },
        {
         "name": "salary_bracket",
         "rawType": "object",
         "type": "string"
        }
       ],
       "ref": "9b64c8c9-64e8-4ac4-b103-97d347f44d23",
       "rows": [
        [
         "0",
         "19",
         "19000",
         "False",
         "Young (18-24)",
         "Low (<30K)"
        ],
        [
         "1",
         "35",
         "20000",
         "False",
         "Middle Age (35-44)",
         "Low (<30K)"
        ],
        [
         "2",
         "26",
         "43000",
         "False",
         "Adult (25-34)",
         "Medium (30K-60K)"
        ],
        [
         "3",
         "27",
         "57000",
         "False",
         "Adult (25-34)",
         "Medium (30K-60K)"
        ],
        [
         "4",
         "19",
         "76000",
         "False",
         "Young (18-24)",
         "High (60K-100K)"
        ]
       ],
       "shape": {
        "columns": 5,
        "rows": 5
       }
      },
      "text/html": [
       "<div>\n",
       "<style scoped>\n",
       "    .dataframe tbody tr th:only-of-type {\n",
       "        vertical-align: middle;\n",
       "    }\n",
       "\n",
       "    .dataframe tbody tr th {\n",
       "        vertical-align: top;\n",
       "    }\n",
       "\n",
       "    .dataframe thead th {\n",
       "        text-align: right;\n",
       "    }\n",
       "</style>\n",
       "<table border=\"1\" class=\"dataframe\">\n",
       "  <thead>\n",
       "    <tr style=\"text-align: right;\">\n",
       "      <th></th>\n",
       "      <th>age</th>\n",
       "      <th>estimated_salary</th>\n",
       "      <th>purchased</th>\n",
       "      <th>age_group</th>\n",
       "      <th>salary_bracket</th>\n",
       "    </tr>\n",
       "  </thead>\n",
       "  <tbody>\n",
       "    <tr>\n",
       "      <th>0</th>\n",
       "      <td>19</td>\n",
       "      <td>19000</td>\n",
       "      <td>False</td>\n",
       "      <td>Young (18-24)</td>\n",
       "      <td>Low (&lt;30K)</td>\n",
       "    </tr>\n",
       "    <tr>\n",
       "      <th>1</th>\n",
       "      <td>35</td>\n",
       "      <td>20000</td>\n",
       "      <td>False</td>\n",
       "      <td>Middle Age (35-44)</td>\n",
       "      <td>Low (&lt;30K)</td>\n",
       "    </tr>\n",
       "    <tr>\n",
       "      <th>2</th>\n",
       "      <td>26</td>\n",
       "      <td>43000</td>\n",
       "      <td>False</td>\n",
       "      <td>Adult (25-34)</td>\n",
       "      <td>Medium (30K-60K)</td>\n",
       "    </tr>\n",
       "    <tr>\n",
       "      <th>3</th>\n",
       "      <td>27</td>\n",
       "      <td>57000</td>\n",
       "      <td>False</td>\n",
       "      <td>Adult (25-34)</td>\n",
       "      <td>Medium (30K-60K)</td>\n",
       "    </tr>\n",
       "    <tr>\n",
       "      <th>4</th>\n",
       "      <td>19</td>\n",
       "      <td>76000</td>\n",
       "      <td>False</td>\n",
       "      <td>Young (18-24)</td>\n",
       "      <td>High (60K-100K)</td>\n",
       "    </tr>\n",
       "  </tbody>\n",
       "</table>\n",
       "</div>"
      ],
      "text/plain": [
       "   age  estimated_salary  purchased           age_group    salary_bracket\n",
       "0   19             19000      False       Young (18-24)        Low (<30K)\n",
       "1   35             20000      False  Middle Age (35-44)        Low (<30K)\n",
       "2   26             43000      False       Adult (25-34)  Medium (30K-60K)\n",
       "3   27             57000      False       Adult (25-34)  Medium (30K-60K)\n",
       "4   19             76000      False       Young (18-24)   High (60K-100K)"
      ]
     },
     "execution_count": 18,
     "metadata": {},
     "output_type": "execute_result"
    }
   ],
   "source": [
    "def add_derived_features(df):\n",
    "    \"\"\"Add derived features for better analysis\"\"\"\n",
    "    print(\"🛠️ Adding derived features...\")\n",
    "    \n",
    "    df_enriched = df.copy()\n",
    "    \n",
    "    # Age groups\n",
    "    def categorize_age(age):\n",
    "        if age < 25:\n",
    "            return \"Young (18-24)\"\n",
    "        elif age < 35:\n",
    "            return \"Adult (25-34)\"\n",
    "        elif age < 45:\n",
    "            return \"Middle Age (35-44)\"\n",
    "        else:\n",
    "            return \"Senior (45+)\"\n",
    "    \n",
    "    df_enriched['age_group'] = df_enriched['age'].apply(categorize_age)\n",
    "    print(\"✅ Added age_group feature\")\n",
    "    \n",
    "    # Salary brackets\n",
    "    def categorize_salary(salary):\n",
    "        if salary < 30000:\n",
    "            return \"Low (<30K)\"\n",
    "        elif salary < 60000:\n",
    "            return \"Medium (30K-60K)\"\n",
    "        elif salary < 100000:\n",
    "            return \"High (60K-100K)\"\n",
    "        else:\n",
    "            return \"Very High (100K+)\"\n",
    "    \n",
    "    df_enriched['salary_bracket'] = df_enriched['estimated_salary'].apply(categorize_salary)\n",
    "    print(\"✅ Added salary_bracket feature\")\n",
    "    \n",
    "    # Convert purchased to boolean\n",
    "    df_enriched['purchased'] = df_enriched['purchased'].astype(bool)\n",
    "    print(\"✅ Converted purchased to boolean\")\n",
    "    \n",
    "    print(f\"\\n📊 Feature engineering summary:\")\n",
    "    print(f\"   Age groups: {df_enriched['age_group'].value_counts().to_dict()}\")\n",
    "    print(f\"   Salary brackets: {df_enriched['salary_bracket'].value_counts().to_dict()}\")\n",
    "    \n",
    "    return df_enriched\n",
    "\n",
    "# Execute feature engineering\n",
    "df_transformed = add_derived_features(df_clean)\n",
    "print(f\"\\n🔍 Final transformed data shape: {df_transformed.shape}\")\n",
    "print(f\"📝 Final columns: {list(df_transformed.columns)}\")\n",
    "df_transformed.head()"
   ]
  },
  {
   "cell_type": "markdown",
   "id": "0155e064",
   "metadata": {},
   "source": [
    "## 💾 Load Phase\n",
    "\n",
    "Store the transformed data in SQLite database."
   ]
  },
  {
   "cell_type": "code",
   "execution_count": 19,
   "id": "ae48cce6",
   "metadata": {},
   "outputs": [
    {
     "name": "stdout",
     "output_type": "stream",
     "text": [
      "💾 Loading data to database...\n",
      "📊 Database tables created/verified\n",
      "✅ Database tables created/verified\n",
      "🗑️ Cleared existing data\n",
      "✅ Successfully loaded 367 records to database\n",
      "🔍 Verification: 367 records in database\n",
      "\n",
      "🎉 ETL Pipeline completed successfully!\n",
      "📊 Records processed: 400 → 367\n",
      "📈 Data quality: 91.8%\n"
     ]
    },
    {
     "name": "stderr",
     "output_type": "stream",
     "text": [
      "/var/folders/h3/dshrqqgs1xv628f0c7bj8mj80000gn/T/ipykernel_36865/1372425608.py:20: DeprecationWarning: datetime.datetime.utcnow() is deprecated and scheduled for removal in a future version. Use timezone-aware objects to represent datetimes in UTC: datetime.datetime.now(datetime.UTC).\n",
      "  current_time = datetime.utcnow()\n"
     ]
    }
   ],
   "source": [
    "def load_to_database(df):\n",
    "    \"\"\"Load transformed data into SQLite database\"\"\"\n",
    "    print(\"💾 Loading data to database...\")\n",
    "    \n",
    "    try:\n",
    "        # Create tables if they don't exist\n",
    "        create_tables()\n",
    "        print(\"✅ Database tables created/verified\")\n",
    "        \n",
    "        # Clear existing data (for fresh load)\n",
    "        with engine.connect() as conn:\n",
    "            conn.execute(text(\"DELETE FROM social_ads\"))\n",
    "            conn.commit()\n",
    "        print(\"🗑️ Cleared existing data\")\n",
    "        \n",
    "        # Insert new data\n",
    "        records_to_insert = df.to_dict(orient='records')\n",
    "        \n",
    "        # Add timestamps\n",
    "        current_time = datetime.utcnow()\n",
    "        for record in records_to_insert:\n",
    "            record['created_at'] = current_time\n",
    "            record['updated_at'] = current_time\n",
    "        \n",
    "        # Insert into database\n",
    "        df.to_sql('social_ads', engine, if_exists='append', index=False)\n",
    "        print(f\"✅ Successfully loaded {len(records_to_insert)} records to database\")\n",
    "        \n",
    "        # Verify the load\n",
    "        verification_query = \"SELECT COUNT(*) as count FROM social_ads\"\n",
    "        result = pd.read_sql_query(verification_query, engine)\n",
    "        record_count = result['count'].iloc[0]\n",
    "        print(f\"🔍 Verification: {record_count} records in database\")\n",
    "        \n",
    "        return True\n",
    "        \n",
    "    except Exception as e:\n",
    "        print(f\"❌ Error loading to database: {e}\")\n",
    "        return False\n",
    "\n",
    "# Execute database loading\n",
    "load_success = load_to_database(df_transformed)\n",
    "\n",
    "if load_success:\n",
    "    print(f\"\\n🎉 ETL Pipeline completed successfully!\")\n",
    "    print(f\"📊 Records processed: {len(df_raw)} → {len(df_transformed)}\")\n",
    "    print(f\"📈 Data quality: {len(df_transformed)/len(df_raw)*100:.1f}%\")"
   ]
  },
  {
   "cell_type": "code",
   "execution_count": 20,
   "id": "c715b8cd",
   "metadata": {},
   "outputs": [
    {
     "name": "stdout",
     "output_type": "stream",
     "text": [
      "🔍 ETL VALIDATION\n",
      "==============================\n",
      "✅ Database records: 367\n",
      "📊 Avg age: 37.7\n",
      "💰 Avg salary: $70,719\n",
      "🎯 Purchases: 138/367\n",
      "\n",
      "✅ ETL Pipeline completed successfully!\n"
     ]
    }
   ],
   "source": [
    "# Quick validation of loaded data\n",
    "print(\"🔍 ETL VALIDATION\")\n",
    "print(\"=\" * 30)\n",
    "\n",
    "# Verify record count\n",
    "total_query = \"SELECT COUNT(*) as total FROM social_ads\"\n",
    "total_records = pd.read_sql_query(total_query, engine)['total'].iloc[0]\n",
    "print(f\"✅ Database records: {total_records}\")\n",
    "\n",
    "# Basic stats\n",
    "stats_query = \"\"\"\n",
    "SELECT \n",
    "    AVG(age) as avg_age,\n",
    "    AVG(estimated_salary) as avg_salary,\n",
    "    SUM(CAST(purchased as INTEGER)) as purchases,\n",
    "    COUNT(*) as total\n",
    "FROM social_ads\n",
    "\"\"\"\n",
    "stats = pd.read_sql_query(stats_query, engine)\n",
    "print(f\"📊 Avg age: {stats['avg_age'].iloc[0]:.1f}\")\n",
    "print(f\"💰 Avg salary: ${stats['avg_salary'].iloc[0]:,.0f}\")\n",
    "print(f\"🎯 Purchases: {stats['purchases'].iloc[0]}/{stats['total'].iloc[0]}\")\n",
    "\n",
    "print(\"\\n✅ ETL Pipeline completed successfully!\")"
   ]
  },
  {
   "cell_type": "markdown",
   "id": "8343ba0b",
   "metadata": {},
   "source": [
    "## ✅ ETL Complete!\n",
    "\n",
    "**Pipeline Summary:**\n",
    "- **Extract**: 400 records from CSV\n",
    "- **Transform**: Data cleaning, validation, feature engineering  \n",
    "- **Load**: Clean data stored in SQLite database\n",
    "\n",
    "**Next Step:** Proceed to `03_analysis.ipynb` for insights generation."
   ]
  }
 ],
 "metadata": {
  "kernelspec": {
   "display_name": ".venv",
   "language": "python",
   "name": "python3"
  },
  "language_info": {
   "codemirror_mode": {
    "name": "ipython",
    "version": 3
   },
   "file_extension": ".py",
   "mimetype": "text/x-python",
   "name": "python",
   "nbconvert_exporter": "python",
   "pygments_lexer": "ipython3",
   "version": "3.13.2"
  }
 },
 "nbformat": 4,
 "nbformat_minor": 5
}
